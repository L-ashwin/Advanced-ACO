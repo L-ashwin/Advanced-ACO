{
 "cells": [
  {
   "cell_type": "code",
   "execution_count": null,
   "metadata": {
    "colab": {},
    "colab_type": "code",
    "id": "hfomCy9dDbMk"
   },
   "outputs": [],
   "source": [
    "import numpy as np\n",
    "import pandas as pd\n",
    "from datetime import datetime\n",
    "from sklearn.ensemble import RandomForestClassifier\n",
    "from sklearn.model_selection import StratifiedKFold\n",
    "from sklearn.metrics import accuracy_score\n",
    "from sklearn import datasets\n",
    "from scipy import stats"
   ]
  },
  {
   "cell_type": "markdown",
   "metadata": {},
   "source": [
    "# Functions"
   ]
  },
  {
   "cell_type": "code",
   "execution_count": null,
   "metadata": {},
   "outputs": [],
   "source": [
    "def Scale(mat, scaleMin, scaleMax):\n",
    "    \"\"\"\n",
    "    Function expects a matrix along with minimum and maximum values \n",
    "    between which all the values of matrix are scaled.\n",
    "    It returns a scaled matrix.\n",
    "    \"\"\"\n",
    "    oldMin   = mat.min()\n",
    "    oldRange = mat.max() - mat.min()\n",
    "    newRange = scaleMax - scaleMin\n",
    "\n",
    "    mat = (mat - oldMin) * newRange / oldRange + scaleMin\n",
    "    return mat"
   ]
  },
  {
   "cell_type": "code",
   "execution_count": null,
   "metadata": {
    "colab": {},
    "colab_type": "code",
    "id": "jXnM7_slDbM3"
   },
   "outputs": [],
   "source": [
    "def getSymmetricMatrix(n):\n",
    "    \"\"\"\n",
    "    Input:\n",
    "    n - Integer\n",
    "    \n",
    "    Output: function returns a nXn symmetric matrix with random values\n",
    "    \"\"\"\n",
    "    r = np.random.rand(n, n)\n",
    "    F = (r + r.T)/2\n",
    "    np.fill_diagonal(F,0)\n",
    "    return F\n",
    "\n",
    "def getF(attributes):\n",
    "    \"\"\"\n",
    "    Input:\n",
    "    attributes - Total number of attributes\n",
    "    \n",
    "    This function is used to get a initial Pheromone matrix with random values.\n",
    "    \n",
    "    Output:\n",
    "    Function returns a matrix of shape :\n",
    "    attributes X attributes X 4\n",
    "    \"\"\"\n",
    "    F = np.zeros((attributes, attributes, 4))\n",
    "    for i in range(4):\n",
    "        F[:,:,i] = getSymmetricMatrix(attributes)\n",
    "    return F"
   ]
  },
  {
   "cell_type": "code",
   "execution_count": null,
   "metadata": {},
   "outputs": [],
   "source": [
    "def initialiseF(attributes):\n",
    "    \"\"\"\n",
    "    Input:\n",
    "    attributes - Total number of attributes\n",
    "    \n",
    "    This function is used to get a initial Pheromone matrix with heuristics.\n",
    "    We use first method from methods of heuristics \n",
    "    to get Pheromone values for each link.\n",
    "    \n",
    "    Output:\n",
    "    Function returns a matrix of shape :\n",
    "    attributes X attributes X 4\n",
    "    \"\"\"\n",
    "    F = np.zeros((attributes, attributes, 4))\n",
    "    for i in range(attributes):\n",
    "        for j in range(attributes):\n",
    "            F[i][j][0] = heuristic(i, j, 0, 1)\n",
    "            F[i][j][1] = heuristic(i, j, 1, 1)\n",
    "            F[i][j][2] = heuristic(i, j, 2, 1)\n",
    "            F[i][j][3] = heuristic(i, j, 3, 1)\n",
    "    \n",
    "    F = Scale(F, scaleMin, scaleMax)\n",
    "    return F"
   ]
  },
  {
   "cell_type": "code",
   "execution_count": null,
   "metadata": {},
   "outputs": [],
   "source": [
    "def heuristic(i, j, stateCode, methodCode):\n",
    "    \"\"\"\n",
    "    Inputs:\n",
    "    i, j -> From and To of the link whose heuristic importance is required.\n",
    "    \n",
    "    stateCode -> Specific code given to link based on which two states it connects.\n",
    "    stateCode = 0 if link between state 0 to 0\n",
    "              = 1 if link between state 0 to 1\n",
    "              = 2 if link between state 1 to 0\n",
    "              = 3 if link between state 1 to 1\n",
    "    \n",
    "    methodCode -> To spesify which method is to be used for heuristic calculations.\n",
    "    methodCode = 1 for minimum redundancy method\n",
    "               = 2 for minimum redundancy & maximum relevance method\n",
    "               = 3 for Hybrid method\n",
    "    \n",
    "    Output: returns heuristic importance of the link\n",
    "    \"\"\"\n",
    "\n",
    "    if methodCode == 1: #minimum redundancy\n",
    "        if stateCode == 0:\n",
    "            return corelationMat[i][j]\n",
    "        if stateCode == 1:\n",
    "            return (1 - corelationMat[i][j])\n",
    "        if stateCode == 2:\n",
    "            return corelationMat[i][j]\n",
    "        if stateCode == 3:\n",
    "            return (1 - corelationMat[i][j])\n",
    "\n",
    "    if methodCode == 2: #minimum redundancy & maximum relevance\n",
    "        if stateCode == 0:\n",
    "            return np.sqrt(corelationMat[i][j] * (1 - relevanceVect[j]))\n",
    "        if stateCode == 1:\n",
    "            return np.sqrt(1 - corelationMat[i][j] * (relevanceVect[j]))\n",
    "        if stateCode == 2:\n",
    "            return np.sqrt(corelationMat[i][j] * (1 - relevanceVect[j]))\n",
    "        if stateCode == 3:\n",
    "            return np.sqrt(1 - corelationMat[i][j] * (relevanceVect[j]))\n",
    "    \n",
    "    if methodCode == 3: #Hybrid\n",
    "        if stateCode == 0:\n",
    "            return (1 - relevanceVect[j])\n",
    "        if stateCode == 1:\n",
    "            return (relevanceVect[j])\n",
    "        if stateCode == 2:\n",
    "            return corelationMat[i][j]\n",
    "        if stateCode == 3:\n",
    "            return 1 - corelationMat[i][j]"
   ]
  },
  {
   "cell_type": "code",
   "execution_count": null,
   "metadata": {
    "colab": {},
    "colab_type": "code",
    "id": "IqtQJTSFDbNH"
   },
   "outputs": [],
   "source": [
    "def getAnts(attributes, noOfAnts, F):\n",
    "    \"\"\"\n",
    "    Inputs:\n",
    "    attributes - Total number of attributes\n",
    "    noOfAnts   - number of ants\n",
    "    F - Pheramone matrix, ndarray with shape [attributes X attributes X 4]\n",
    "    \n",
    "    Output:\n",
    "    returns two lists of length equal to number of attributes,\n",
    "    antsNode  -> list of attributes visited by ant\n",
    "    antsState -> it gives states(o or 1) for curresponding nodes in antsNode\n",
    "    \"\"\"\n",
    "    \n",
    "    \n",
    "    antsNode  = [np.random.choice(range(attributes), 1) for i in range(noOfAnts)]\n",
    "    antsState = [np.random.choice(range(2),1) for i in range(noOfAnts)]\n",
    "    \n",
    "    for attribute in range(attributes-1):\n",
    "        for ant in range(len(antsNode)):\n",
    "            nextPossible = set(range(attributes)) - set(antsNode[ant])     \n",
    "            i = antsNode[ant][-1] # last selected\n",
    "            \n",
    "# ------------------- Finding weights of possible attributes and states --------------------- #           \n",
    "            \n",
    "            if i: # last ant in state 1, it can either be 1 to 0, or 1 to 1.\n",
    "                wt0 = {}\n",
    "                for j in nextPossible:\n",
    "                    HeuMethod = np.random.choice([1,2,3], p=[p1,p2,(1-(p1+p2))])\n",
    "                    wt0[j] = F[i][j][2]**alpha * heuristic(i, j, 2, HeuMethod)**beta # state 1 to 0\n",
    "                    \n",
    "                wt1 = {}\n",
    "                for j in nextPossible:\n",
    "                    HeuMethod = np.random.choice([1,2,3], p=[p1,p2,(1-(p1+p2))])\n",
    "                    wt1[j] = F[i][j][3]**alpha * heuristic(i, j, 3, HeuMethod)**beta # state 1 to 1\n",
    "\n",
    "            else: # last ant in state 0, it can either be 0 to 0 or 0 to 1\n",
    "                wt0 = {}\n",
    "                for j in nextPossible:\n",
    "                    HeuMethod = np.random.choice([1,2,3], p=[p1,p2,(1-(p1+p2))])\n",
    "                    wt0[j] = F[i][j][0]**alpha * heuristic(i, j, 0, HeuMethod)**beta # state 0 to 0\n",
    "\n",
    "                wt1 = {}\n",
    "                for j in nextPossible:\n",
    "                    HeuMethod = np.random.choice([1,2,3], p=[p1,p2,(1-(p1+p2))])\n",
    "                    wt1[j] = F[i][j][1]**alpha * heuristic(i, j, 1, HeuMethod)**beta # state 0 to 1\n",
    "            \n",
    "# ------------ Exploration and Exploitation to select new attribute and state --------------- #           \n",
    "            \n",
    "            if np.random.rand(1) < 0.7 :#Exploitation\n",
    "                select0 = max(wt0, key=wt0.get)\n",
    "                select1 = max(wt1, key=wt1.get)\n",
    "\n",
    "                if wt0[select0] > wt1[select1]:\n",
    "                    antsNode[ant]  = np.append(antsNode[ant], select0)\n",
    "                    antsState[ant] = np.append(antsState[ant], 0)\n",
    "                else:\n",
    "                    antsNode[ant]  = np.append(antsNode[ant], select1)\n",
    "                    antsState[ant] = np.append(antsState[ant], 1)\n",
    "\n",
    "            else:#Exploration\n",
    "                Wt_wt0, Wt_wt1 = sum(wt0.values()), sum(wt1.values())\n",
    "                P0 = Wt_wt0/(Wt_wt0 + Wt_wt1)\n",
    "                P1 = Wt_wt1/(Wt_wt0 + Wt_wt1)\n",
    "             \n",
    "                if np.random.choice(range(2), p=[P0, P1]):\n",
    "                    select1 = np.random.choice(list(nextPossible), 1, p = [wt1[i]/Wt_wt1 for i in nextPossible])\n",
    "                    antsNode[ant] = np.append(antsNode[ant], select1)\n",
    "                    antsState[ant] = np.append(antsState[ant], 1)\n",
    "\n",
    "                else:            \n",
    "                    select0 = np.random.choice(list(nextPossible), 1, p = [wt0[i]/Wt_wt0 for i in nextPossible])\n",
    "                    antsNode[ant] = np.append(antsNode[ant], select0)\n",
    "                    antsState[ant] = np.append(antsState[ant], 0)\n",
    "\n",
    "    return antsNode, antsState"
   ]
  },
  {
   "cell_type": "code",
   "execution_count": null,
   "metadata": {
    "colab": {},
    "colab_type": "code",
    "id": "p_lkMiGjDbNQ"
   },
   "outputs": [],
   "source": [
    "def getAccuracy(xData, yData):\n",
    "    \"\"\"\n",
    "    Given xData and yData i.e. attributes and target function runs RandomForestClassifier\n",
    "    and returns 5 fold CV accuracy\n",
    "    \"\"\"\n",
    "\n",
    "    kf = StratifiedKFold(n_splits=5)\n",
    "    kf.get_n_splits()\n",
    "    \n",
    "    accuracy = []\n",
    "    for train_index, valid_index in kf.split(xData, yData):\n",
    "        \n",
    "        X_Train = xData[train_index]\n",
    "        y_Train = yData[train_index]\n",
    "        X_Valid = xData[valid_index]\n",
    "        y_Valid = yData[valid_index]\n",
    "\n",
    "        rfModel = RandomForestClassifier()\n",
    "        rfModel.fit(X_Train, y_Train)\n",
    "\n",
    "        y_pred = rfModel.predict(X_Valid)\n",
    "        accuracy.append(accuracy_score(y_Valid, y_pred))\n",
    "               \n",
    "    return np.mean(accuracy)"
   ]
  },
  {
   "cell_type": "code",
   "execution_count": null,
   "metadata": {
    "colab": {},
    "colab_type": "code",
    "id": "oyv4bBaCDbNh"
   },
   "outputs": [],
   "source": [
    "def updateF(pMeasure, antsNode, antsState):\n",
    "    \"\"\"\n",
    "    Inputs:\n",
    "    pMeasure  -> list of performance score for ansts\n",
    "    antsNode  -> list of nodes visited by ansts\n",
    "    antsState -> list of states of nodes visited by ansts\n",
    "    \n",
    "    Given inputs this function calls modifyF with appropriate change fractions \n",
    "    which then modifies global variable F i.e. Pheromone maxtrix\n",
    "    \"\"\"\n",
    "    global F\n",
    "    \n",
    "    evapFrac = 0.05\n",
    "    evap = lambda x: x * (1-evapFrac)\n",
    "    F = evap(F)\n",
    "    \n",
    "    best = np.argmax(pMeasure) \n",
    "    modifyF(antsNode[best], antsState[best], reward(pMeasure[best]*100) + evapFrac)\n",
    "    \n",
    "                   \n",
    "def reward(accuracy):\n",
    "    \"\"\"\n",
    "    Input:\n",
    "    Accuracy in percentage\n",
    "    \n",
    "    Reward function returns increment fraction given accuracy value for \n",
    "    best performing ant\n",
    "    \"\"\"\n",
    "    if accuracy <= 70:\n",
    "        return 0.05\n",
    "    if accuracy >= 90:\n",
    "        return 0.30\n",
    "    \n",
    "    return (0.05 + (0.3 - 0.05)/(90 - 70) * (accuracy - 70))\n",
    "\n",
    "\n",
    "def modifyF(antNode, antState, Change):\n",
    "    \"\"\"\n",
    "    Inputs:\n",
    "    antNode -  ant node list\n",
    "    antState - ant state list corresponding to antnode list\n",
    "    Change - change fraction in pheremone value \n",
    "    \"\"\"\n",
    "    for i in range(attributes-1):\n",
    "        if antState[i] == 0 and antState[i+1] == 0:\n",
    "            ind = 0\n",
    "\n",
    "        if antState[i] == 0 and antState[i+1] == 1:\n",
    "            ind = 1\n",
    "\n",
    "        if antState[i] == 1 and antState[i+1] == 0:\n",
    "            ind = 2\n",
    "\n",
    "        if antState[i] == 1 and antState[i+1] == 1:\n",
    "            ind = 3       \n",
    "\n",
    "        F[antNode[i], antNode[i+1], ind] += F[antNode[i], antNode[i+1], ind]*Change\n",
    "        F[antNode[i+1], antNode[i], ind] += F[antNode[i+1], antNode[i], ind]*Change"
   ]
  },
  {
   "cell_type": "code",
   "execution_count": null,
   "metadata": {},
   "outputs": [],
   "source": [
    "def getSelectedFeatures(antNode, antState):\n",
    "    \"\"\"\n",
    "    Inputs:\n",
    "    antNode -  ant node list\n",
    "    antState - ant state list corresponding to antnode list\n",
    "    \n",
    "    Output - List of selected attributes\n",
    "    \"\"\"\n",
    "    attributeSelect = []\n",
    "    for i in range(len(antNode)):\n",
    "        if antState[i]:\n",
    "            attributeSelect.append(antNode[i])\n",
    "    return attributeSelect"
   ]
  },
  {
   "cell_type": "code",
   "execution_count": null,
   "metadata": {
    "colab": {},
    "colab_type": "code",
    "id": "KrpiLlaNDbOI"
   },
   "outputs": [],
   "source": [
    "def output():\n",
    "    dict = {\n",
    "        'bestFSAccuracy':bestFSAccuracy[-1],\n",
    "        'NoOfAttributes':len(bestSelect[-1]),\n",
    "        'bestSelect':''.join(str(e)+\" \" for e in bestSelect[-1])\n",
    "    }\n",
    "    outputdf = pd.DataFrame(dict, index=[0])\n",
    "    outputdf.to_csv(outputFile, mode='a', index=None,header=None)"
   ]
  },
  {
   "cell_type": "markdown",
   "metadata": {},
   "source": [
    "# The main function"
   ]
  },
  {
   "cell_type": "code",
   "execution_count": null,
   "metadata": {
    "colab": {},
    "colab_type": "code",
    "id": "UbOuGCQ4DbN3"
   },
   "outputs": [],
   "source": [
    "def main(epoch):\n",
    "    \"\"\"\n",
    "    Input:\n",
    "    epoch -> Number of generations of ants to be generated.\n",
    "    This function runs the Entire algorithm to get best feature set.\n",
    "    \"\"\"\n",
    "    global F\n",
    "    for itr in range(epoch):\n",
    "        \n",
    "        antsNode, antsState = getAnts(attributes, noOfAnts, F)\n",
    "        accuracy = []\n",
    "        learnMeasure = []\n",
    "        attributeSelect = []\n",
    "        \n",
    "        for ant in range(noOfAnts):\n",
    "            attributeSelect.append(getSelectedFeatures(antsNode[ant],antsState[ant]))\n",
    "\n",
    "            if not len(attributeSelect[ant]) == 0:\n",
    "                accu = getAccuracy(xData[:,attributeSelect[ant]], yData)\n",
    "                accuracy.append(accu)     \n",
    "            else:\n",
    "                accuracy.append(0)\n",
    "        \n",
    "            learnMeasure.append(accuracy[ant]/(1 + lambd * len(attributeSelect[ant])))\n",
    "            \n",
    "        best = np.argmax(learnMeasure)\n",
    "        if learnMeasure[best] > bestlearnMeasure[-1]:\n",
    "            bestlearnMeasure.append(learnMeasure[best])\n",
    "            bestFSAccuracy.append(accuracy[best])\n",
    "            bestSelect.append(attributeSelect[best])\n",
    "            print('best accuracy = ', round(accuracy[best], 4))\n",
    "            print('best fitness score = ', round(learnMeasure[best],4))\n",
    "            print('number of features selected = ', len(attributeSelect[best]))\n",
    "                                              \n",
    "        updateF(learnMeasure, antsNode, antsState)\n",
    "        F = Scale(F, scaleMin, scaleMax)\n",
    "\n",
    "        print('------ End of Epoch = ',itr+1,'-------') \n",
    "        "
   ]
  },
  {
   "cell_type": "markdown",
   "metadata": {},
   "source": [
    "# Experiment"
   ]
  },
  {
   "cell_type": "code",
   "execution_count": null,
   "metadata": {
    "colab": {},
    "colab_type": "code",
    "id": "x1h8M3GPDbN_"
   },
   "outputs": [],
   "source": [
    "def Experiment():\n",
    "    \"\"\"\n",
    "    This function is built to repeat the feature selection algorithm multiple times \n",
    "    to test the statistical properties of results.\n",
    "    \n",
    "    Each time this function is called it intialises global variables, calles main()\n",
    "    to get feature selection and writes the results in output file.\n",
    "    \"\"\"\n",
    "    \n",
    "    global F\n",
    "    global bestFSAccuracy\n",
    "    global bestlearnMeasure\n",
    "    global bestSelect\n",
    "    global incItr\n",
    "    \n",
    "    \n",
    "    F = initialiseF(attributes)\n",
    "    bestFSAccuracy = [0]\n",
    "    bestlearnMeasure = [0]\n",
    "    bestSelect = [[]]\n",
    "    incItr = [0]\n",
    "    \n",
    "    main(epoch)\n",
    "    output()"
   ]
  },
  {
   "cell_type": "markdown",
   "metadata": {
    "colab_type": "text",
    "id": "HGR04OgjDbOO"
   },
   "source": [
    "# Select Data Set"
   ]
  },
  {
   "cell_type": "code",
   "execution_count": null,
   "metadata": {},
   "outputs": [],
   "source": [
    "dset = datasets.load_breast_cancer()\n",
    "dset_name = 'breast_cancer'"
   ]
  },
  {
   "cell_type": "code",
   "execution_count": null,
   "metadata": {},
   "outputs": [],
   "source": [
    "xData = dset.data\n",
    "yData = dset.target\n",
    "attributes = xData.shape[1]"
   ]
  },
  {
   "cell_type": "markdown",
   "metadata": {
    "colab_type": "text",
    "id": "hyzuPmWJDbOm"
   },
   "source": [
    "# Initialising Output File"
   ]
  },
  {
   "cell_type": "code",
   "execution_count": null,
   "metadata": {},
   "outputs": [],
   "source": [
    "timestamp = str(datetime.now().replace(second=0, microsecond=0))\n",
    "timestamp = timestamp.replace(' ','_')\n",
    "outputFile = './output/'+ dset_name + '_' + timestamp +'.csv'"
   ]
  },
  {
   "cell_type": "code",
   "execution_count": null,
   "metadata": {
    "colab": {},
    "colab_type": "code",
    "id": "IZdTdUyaDbOv"
   },
   "outputs": [],
   "source": [
    "dict = {\n",
    "    1:'bestFSAccuracy',\n",
    "    2:'NoOfAttributes',\n",
    "    3:'bestSelect',\n",
    "}\n",
    "outputdf = pd.DataFrame(dict, index=[0])\n",
    "outputdf.to_csv(outputFile, index=None, header=None)"
   ]
  },
  {
   "cell_type": "markdown",
   "metadata": {},
   "source": [
    "# Computing Heuristics"
   ]
  },
  {
   "cell_type": "markdown",
   "metadata": {},
   "source": [
    "## corelationMat"
   ]
  },
  {
   "cell_type": "code",
   "execution_count": null,
   "metadata": {},
   "outputs": [],
   "source": [
    "scaleMin = 0.1\n",
    "scaleMax = 0.9"
   ]
  },
  {
   "cell_type": "code",
   "execution_count": null,
   "metadata": {},
   "outputs": [],
   "source": [
    "corelationMat = np.zeros((attributes, attributes))\n",
    "for k in range(attributes):\n",
    "    for l in range(attributes):\n",
    "        corelationMat[k][l] = stats.pearsonr(xData[:,k], xData[:,l])[0]\n",
    "corelationMat = np.abs(corelationMat)\n",
    "print('max min', corelationMat.max(), corelationMat.min())\n",
    "corelationMat = Scale(corelationMat, scaleMin, scaleMax)\n",
    "print('max min', corelationMat.max(), corelationMat.min())"
   ]
  },
  {
   "cell_type": "markdown",
   "metadata": {},
   "source": [
    "## relevanceVect"
   ]
  },
  {
   "cell_type": "code",
   "execution_count": null,
   "metadata": {
    "colab": {
     "base_uri": "https://localhost:8080/",
     "height": 153
    },
    "colab_type": "code",
    "id": "218mcN-EDbO6",
    "outputId": "cab3e5d9-1234-4e8f-d7a4-af4d2df7ad8f"
   },
   "outputs": [],
   "source": [
    "rfModel = RandomForestClassifier()\n",
    "rfModel.fit(xData, yData)"
   ]
  },
  {
   "cell_type": "code",
   "execution_count": null,
   "metadata": {
    "colab": {},
    "colab_type": "code",
    "id": "f9NTJwQ_DbO_"
   },
   "outputs": [],
   "source": [
    "gini = rfModel.feature_importances_\n",
    "relevanceVect = Scale(gini, scaleMin, scaleMax)\n",
    "print('max min', relevanceVect.max(), relevanceVect.min())"
   ]
  },
  {
   "cell_type": "markdown",
   "metadata": {
    "colab_type": "text",
    "id": "wGISqoveDbO4"
   },
   "source": [
    "# Run"
   ]
  },
  {
   "cell_type": "code",
   "execution_count": null,
   "metadata": {
    "colab": {},
    "colab_type": "code",
    "id": "eWpn5Kp9DbPP"
   },
   "outputs": [],
   "source": [
    "F = None\n",
    "bestlearnMeasure = [0]\n",
    "bestFSAccuracy = [0]\n",
    "bestlearnMeasure = [0]\n",
    "bestSelect = [[]]"
   ]
  },
  {
   "cell_type": "code",
   "execution_count": null,
   "metadata": {
    "colab": {},
    "colab_type": "code",
    "id": "TlAfzQ34DbPU"
   },
   "outputs": [],
   "source": [
    "Exrepeat = 5\n",
    "noOfAnts = 20\n",
    "epoch = 40\n",
    "\n",
    "# alpha and beta are the parameters to give relative importance of learning(Pheromone) and Heuristics\n",
    "alpha = 1\n",
    "beta = 0.2\n",
    "\n",
    "# lamda is the parameter to modify the objecive function to minimise number of feature selected while maximising accuracy\n",
    "# higher value indicates mmore dominance of number of features on objecive function\n",
    "lambd = 0.005\n",
    "\n",
    "# p1, p2, (1-(p1+p2)) are the probabilities with which mothod 1, method 2 and method 3 of Heuristics are chosen\n",
    "p1 = 0.75\n",
    "p2 = 0.1"
   ]
  },
  {
   "cell_type": "code",
   "execution_count": null,
   "metadata": {
    "colab": {
     "base_uri": "https://localhost:8080/",
     "height": 1000
    },
    "colab_type": "code",
    "id": "jSX4R6OeDbPa",
    "outputId": "fd7f6dc9-00c4-40e9-eecd-6bdc4f001daf"
   },
   "outputs": [],
   "source": [
    "for i in range(Exrepeat):\n",
    "    print('====================== Experiment No =',i+1,'==========================')\n",
    "    Experiment()"
   ]
  },
  {
   "cell_type": "code",
   "execution_count": null,
   "metadata": {
    "colab": {
     "base_uri": "https://localhost:8080/",
     "height": 85
    },
    "colab_type": "code",
    "id": "JY9P4twyDbPi",
    "outputId": "9e3182f3-2689-4992-8b35-28aeddb1352a"
   },
   "outputs": [],
   "source": [
    "result = pd.read_csv(outputFile) \n",
    "result"
   ]
  },
  {
   "cell_type": "code",
   "execution_count": null,
   "metadata": {},
   "outputs": [],
   "source": [
    "outputFile"
   ]
  },
  {
   "cell_type": "code",
   "execution_count": null,
   "metadata": {},
   "outputs": [],
   "source": []
  }
 ],
 "metadata": {
  "colab": {
   "name": "30X40_ABAOCPMeasure-SVM-wine.ipynb",
   "provenance": [],
   "toc_visible": true
  },
  "kernelspec": {
   "display_name": "Python 3",
   "language": "python",
   "name": "python3"
  },
  "language_info": {
   "codemirror_mode": {
    "name": "ipython",
    "version": 3
   },
   "file_extension": ".py",
   "mimetype": "text/x-python",
   "name": "python",
   "nbconvert_exporter": "python",
   "pygments_lexer": "ipython3",
   "version": "3.7.5"
  }
 },
 "nbformat": 4,
 "nbformat_minor": 1
}
